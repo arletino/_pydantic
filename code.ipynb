{
 "cells": [
  {
   "cell_type": "markdown",
   "metadata": {},
   "source": [
    "Импорт модуля pydantic"
   ]
  },
  {
   "cell_type": "code",
   "execution_count": 1,
   "metadata": {},
   "outputs": [],
   "source": [
    "import pydantic"
   ]
  },
  {
   "cell_type": "markdown",
   "metadata": {},
   "source": [
    "Проверка версии Pydantic"
   ]
  },
  {
   "cell_type": "code",
   "execution_count": 2,
   "metadata": {},
   "outputs": [
    {
     "name": "stdout",
     "output_type": "stream",
     "text": [
      "2.7.4\n"
     ]
    }
   ],
   "source": [
    "print(pydantic.__version__)"
   ]
  },
  {
   "cell_type": "markdown",
   "metadata": {},
   "source": [
    "Используем стандартную валидацию данных"
   ]
  },
  {
   "cell_type": "code",
   "execution_count": 3,
   "metadata": {},
   "outputs": [
    {
     "name": "stdout",
     "output_type": "stream",
     "text": [
      "Expected id to be an int, got str\n"
     ]
    }
   ],
   "source": [
    "class User:\n",
    "    def __init__(self, id: int, name='Jone Doe'):\n",
    "        if not isinstance(id, int):\n",
    "            raise TypeError(f'Expected id to be an int, got {type(id).__name__}')\n",
    "        if not isinstance(name, str):\n",
    "            raise TypeError(f'Expected name to be an str, got {type(name)},__name__')\n",
    "        \n",
    "        self.id = id\n",
    "        self.name = name\n",
    "\n",
    "\n",
    "try:\n",
    "    user = User(id='123')\n",
    "except TypeError as e:\n",
    "    print(e)\n"
   ]
  },
  {
   "cell_type": "markdown",
   "metadata": {},
   "source": [
    "Базовая проверка при помощи Pydantic"
   ]
  },
  {
   "cell_type": "code",
   "execution_count": 6,
   "metadata": {},
   "outputs": [],
   "source": [
    "from pydantic import BaseModel\n",
    "\n",
    "class User(BaseModel):\n",
    "    id: int\n",
    "    name: str = \"Sidorov Ivan\""
   ]
  },
  {
   "cell_type": "code",
   "execution_count": 7,
   "metadata": {},
   "outputs": [],
   "source": [
    "user = User(id=123)"
   ]
  },
  {
   "cell_type": "code",
   "execution_count": 9,
   "metadata": {},
   "outputs": [
    {
     "ename": "ValidationError",
     "evalue": "1 validation error for User\nid\n  Input should be a valid integer, unable to parse string as an integer [type=int_parsing, input_value='kjhk', input_type=str]\n    For further information visit https://errors.pydantic.dev/2.7/v/int_parsing",
     "output_type": "error",
     "traceback": [
      "\u001b[0;31m---------------------------------------------------------------------------\u001b[0m",
      "\u001b[0;31mValidationError\u001b[0m                           Traceback (most recent call last)",
      "Cell \u001b[0;32mIn[9], line 1\u001b[0m\n\u001b[0;32m----> 1\u001b[0m user \u001b[38;5;241m=\u001b[39m \u001b[43mUser\u001b[49m\u001b[43m(\u001b[49m\u001b[38;5;28;43mid\u001b[39;49m\u001b[38;5;241;43m=\u001b[39;49m\u001b[38;5;124;43m'\u001b[39;49m\u001b[38;5;124;43mkjhk\u001b[39;49m\u001b[38;5;124;43m'\u001b[39;49m\u001b[43m)\u001b[49m\n",
      "File \u001b[0;32m~/.local/lib/python3.12/site-packages/pydantic/main.py:176\u001b[0m, in \u001b[0;36mBaseModel.__init__\u001b[0;34m(self, **data)\u001b[0m\n\u001b[1;32m    174\u001b[0m \u001b[38;5;66;03m# `__tracebackhide__` tells pytest and some other tools to omit this function from tracebacks\u001b[39;00m\n\u001b[1;32m    175\u001b[0m __tracebackhide__ \u001b[38;5;241m=\u001b[39m \u001b[38;5;28;01mTrue\u001b[39;00m\n\u001b[0;32m--> 176\u001b[0m \u001b[38;5;28;43mself\u001b[39;49m\u001b[38;5;241;43m.\u001b[39;49m\u001b[43m__pydantic_validator__\u001b[49m\u001b[38;5;241;43m.\u001b[39;49m\u001b[43mvalidate_python\u001b[49m\u001b[43m(\u001b[49m\u001b[43mdata\u001b[49m\u001b[43m,\u001b[49m\u001b[43m \u001b[49m\u001b[43mself_instance\u001b[49m\u001b[38;5;241;43m=\u001b[39;49m\u001b[38;5;28;43mself\u001b[39;49m\u001b[43m)\u001b[49m\n",
      "\u001b[0;31mValidationError\u001b[0m: 1 validation error for User\nid\n  Input should be a valid integer, unable to parse string as an integer [type=int_parsing, input_value='kjhk', input_type=str]\n    For further information visit https://errors.pydantic.dev/2.7/v/int_parsing"
     ]
    }
   ],
   "source": [
    "user = User(id='kjhk')"
   ]
  },
  {
   "cell_type": "markdown",
   "metadata": {},
   "source": [
    "    Pydantic пытается преобразовать строку в нужный тип"
   ]
  },
  {
   "cell_type": "code",
   "execution_count": 16,
   "metadata": {},
   "outputs": [],
   "source": [
    "user = User(id='123') # id должен быть int pydantic строку переведет в  int"
   ]
  },
  {
   "cell_type": "code",
   "execution_count": 11,
   "metadata": {},
   "outputs": [
    {
     "name": "stdout",
     "output_type": "stream",
     "text": [
      "123\n"
     ]
    }
   ],
   "source": [
    "print(user.id)"
   ]
  },
  {
   "cell_type": "code",
   "execution_count": 12,
   "metadata": {},
   "outputs": [
    {
     "data": {
      "text/plain": [
       "int"
      ]
     },
     "execution_count": 12,
     "metadata": {},
     "output_type": "execute_result"
    }
   ],
   "source": [
    "type(user.id)"
   ]
  },
  {
   "cell_type": "markdown",
   "metadata": {},
   "source": [
    "Вспомогательные методы pydantic"
   ]
  },
  {
   "cell_type": "code",
   "execution_count": 17,
   "metadata": {},
   "outputs": [
    {
     "name": "stdout",
     "output_type": "stream",
     "text": [
      "{'id'}\n",
      "{'name', 'id'}\n"
     ]
    }
   ],
   "source": [
    "print(user.model_fields_set) \n",
    "# Выводит те значения которые валидировались, значения по умолчанию не выводятся\n",
    "user = User(id='123', name='Sidorov Ivan')\n",
    "print(user.model_fields_set) \n",
    "# Выводятся все значения, прошли валидацию"
   ]
  },
  {
   "cell_type": "code",
   "execution_count": 18,
   "metadata": {},
   "outputs": [
    {
     "name": "stdout",
     "output_type": "stream",
     "text": [
      "{'id': 123, 'name': 'Sidorov Ivan'}\n",
      "{\"id\":123,\"name\":\"Sidorov Ivan\"}\n",
      "{'properties': {'id': {'title': 'Id', 'type': 'integer'}, 'name': {'default': 'Sidorov Ivan', 'title': 'Name', 'type': 'string'}}, 'required': ['id'], 'title': 'User', 'type': 'object'}\n"
     ]
    }
   ],
   "source": [
    "print(user.model_dump()) # В словарь\n",
    "print(user.model_dump_json()) # В Json\n",
    "print(user.model_json_schema()) # В полную schema с дополнительной информацией"
   ]
  },
  {
   "cell_type": "markdown",
   "metadata": {},
   "source": [
    "Вложенные модели"
   ]
  },
  {
   "cell_type": "code",
   "execution_count": 19,
   "metadata": {},
   "outputs": [],
   "source": [
    "from typing import List, Optional\n",
    "from pydantic import BaseModel"
   ]
  },
  {
   "cell_type": "code",
   "execution_count": 23,
   "metadata": {},
   "outputs": [],
   "source": [
    "class Food(BaseModel):\n",
    "    name: str\n",
    "    price: float\n",
    "    ingredients: Optional[List[str]] = None # Не обязательные аргумент помечается \"Optional\"\n",
    "\n",
    "class Restaurant(BaseModel):\n",
    "    name:str\n",
    "    location: str\n",
    "    foods: List[Food] # Должен быть список элементов типа класса \"Food\"\n",
    "\n",
    "restaurant_instance = Restaurant(\n",
    "    name='Tasty Bites',\n",
    "    location='123 Flavor Street',\n",
    "    foods = [\n",
    "        {'name': 'Cheese Pizza', 'price': 12.50, 'ingredients': ['Cheese', 'Tomato Sauce', 'Dough']},\n",
    "        {'name': 'Veggia Burger', 'price': 8.99}\n",
    "    ]\n",
    ")"
   ]
  },
  {
   "cell_type": "code",
   "execution_count": 24,
   "metadata": {},
   "outputs": [
    {
     "name": "stdout",
     "output_type": "stream",
     "text": [
      "name='Tasty Bites' location='123 Flavor Street' foods=[Food(name='Cheese Pizza', price=12.5, ingredients=['Cheese', 'Tomato Sauce', 'Dough']), Food(name='Veggia Burger', price=8.99, ingredients=None)]\n",
      "{'name': 'Tasty Bites', 'location': '123 Flavor Street', 'foods': [{'name': 'Cheese Pizza', 'price': 12.5, 'ingredients': ['Cheese', 'Tomato Sauce', 'Dough']}, {'name': 'Veggia Burger', 'price': 8.99, 'ingredients': None}]}\n"
     ]
    }
   ],
   "source": [
    "print(restaurant_instance)\n",
    "print(restaurant_instance.model_dump())"
   ]
  },
  {
   "cell_type": "markdown",
   "metadata": {},
   "source": [
    "Валидация email"
   ]
  },
  {
   "cell_type": "code",
   "execution_count": 27,
   "metadata": {},
   "outputs": [],
   "source": [
    "from typing import List\n",
    "from pydantic import BaseModel, EmailStr, PositiveInt, conlist, Field, HttpUrl"
   ]
  },
  {
   "cell_type": "code",
   "execution_count": 30,
   "metadata": {},
   "outputs": [
    {
     "name": "stdout",
     "output_type": "stream",
     "text": [
      "name='Tasty Bites' owner=Owner(name='Ivan Ivanov', email='ivan.ivan@example.ru') address=Address(street='123, Chtoto tam street', city='Tastytown', state='TS', zip_code='12345') employees=[Employee(name='Ivan Ivanov', position='Chef', email='ivan.ivan@example.ru'), Employee(name='Petya Petrov', position='Waiter', email='peytya.petr@example.ru')] number_of_seats=50 delivery=True website=Url('http://tastybites.ru/')\n"
     ]
    }
   ],
   "source": [
    "class Address(BaseModel):\n",
    "    street: str\n",
    "    city: str\n",
    "    state: str \n",
    "    zip_code: str \n",
    "\n",
    "\n",
    "class Employee(BaseModel):\n",
    "    name: str\n",
    "    position: str\n",
    "    email: EmailStr \n",
    "\n",
    "\n",
    "class Owner(BaseModel):\n",
    "    name: str\n",
    "    email: EmailStr\n",
    "\n",
    "class Restaurant(BaseModel):\n",
    "    name: str = Field(..., pattern=\"^[a-zA-Z0-9-' ]+$\")\n",
    "    # Класс Field, \n",
    "    # ... - обязательное наличие, \n",
    "    # соответствие паттерну регулярного выражения \"^[a-zA-Z0-9-' ]+$\"\n",
    "    owner: Owner\n",
    "    address: Address \n",
    "    employees: conlist(Employee, min_length=2)\n",
    "    number_of_seats: PositiveInt\n",
    "    delivery:bool \n",
    "    website: HttpUrl\n",
    "\n",
    "# Создание сущности Restaurant class\n",
    "restaurant_instance = Restaurant(\n",
    "    name=\"Tasty Bites\",\n",
    "    owner={\n",
    "        'name': 'Ivan Ivanov',\n",
    "        'email': 'ivan.ivan@example.ru'\n",
    "    },\n",
    "    address={\n",
    "        'street': '123, Chtoto tam street',\n",
    "        'city': 'Tastytown',\n",
    "        'state': 'TS',\n",
    "        'zip_code': '12345',\n",
    "    },\n",
    "    employees=[\n",
    "        {\n",
    "            'name': 'Ivan Ivanov',\n",
    "            'position': 'Chef',\n",
    "            'email': 'ivan.ivan@example.ru'\n",
    "        },\n",
    "        {\n",
    "            'name': 'Petya Petrov',\n",
    "            'position': 'Waiter',\n",
    "            'email': 'peytya.petr@example.ru'\n",
    "        }\n",
    "    ],\n",
    "    number_of_seats=50,\n",
    "    delivery=True,\n",
    "    website='http://tastybites.ru'\n",
    ")\n",
    "print(restaurant_instance)\n"
   ]
  },
  {
   "cell_type": "markdown",
   "metadata": {},
   "source": [
    "Валидация полей"
   ]
  },
  {
   "cell_type": "code",
   "execution_count": 33,
   "metadata": {},
   "outputs": [],
   "source": [
    "from pydantic import BaseModel, EmailStr, field_validator"
   ]
  },
  {
   "cell_type": "code",
   "execution_count": 36,
   "metadata": {},
   "outputs": [
    {
     "name": "stdout",
     "output_type": "stream",
     "text": [
      "name='IVAN IVANOV' email='ivan.ivan@example.ru'\n"
     ]
    }
   ],
   "source": [
    "class Owner(BaseModel):\n",
    "    name: str\n",
    "    email: EmailStr\n",
    "\n",
    "    @field_validator('name')\n",
    "    @classmethod\n",
    "    def name_must_contain_space(cls, v: str) -> str:\n",
    "        if ' ' not in v:\n",
    "            raise ValueError('Owner name must contain a space')\n",
    "        return v.upper()\n",
    "\n",
    "try:\n",
    "    owner_instance = Owner(name='ivan ivanov', email='ivan.ivan@example.ru')\n",
    "except ValueError as e:\n",
    "    print(e)\n",
    "\n",
    "print(owner_instance)"
   ]
  },
  {
   "cell_type": "markdown",
   "metadata": {},
   "source": [
    "Валидация моделей - позволяет сделать модель до и после валидации полей"
   ]
  },
  {
   "cell_type": "code",
   "execution_count": 37,
   "metadata": {},
   "outputs": [],
   "source": [
    "from typing import Any \n",
    "from pydantic import BaseModel, EmailStr, ValidationError, model_validator"
   ]
  },
  {
   "cell_type": "code",
   "execution_count": 38,
   "metadata": {},
   "outputs": [
    {
     "name": "stdout",
     "output_type": "stream",
     "text": [
      "1 validation error for Owner\n",
      "  Value error, password should not be included [type=value_error, input_value={'name': 123, 'email': 'i...assword': 'password123'}, input_type=dict]\n",
      "    For further information visit https://errors.pydantic.dev/2.7/v/value_error\n"
     ]
    }
   ],
   "source": [
    "class Owner(BaseModel):\n",
    "    name: str\n",
    "    email: EmailStr \n",
    "\n",
    "    @model_validator(mode='before')\n",
    "    @classmethod\n",
    "    def check_sensitive_info_omitted(cls, data: Any) -> Any:\n",
    "        if isinstance(data, dict):\n",
    "            if 'password' in data:\n",
    "                raise ValueError('password should not be included')\n",
    "            if 'card_number' in data:\n",
    "                raise ValueError('card_number should not be included')\n",
    "        return data\n",
    "    \n",
    "    @model_validator(mode='after')\n",
    "    def check_name_contains_space(self) -> 'Owner':\n",
    "        if ' ' not in self.name:\n",
    "            raise ValueError('Owner name must contain a space')\n",
    "        return self\n",
    "\n",
    "\n",
    "try:\n",
    "    Owner(name=123, email='ivan@example', password='password123')\n",
    "except ValidationError as e:\n",
    "    print(e)            \n"
   ]
  },
  {
   "cell_type": "markdown",
   "metadata": {},
   "source": [
    "Fields - кастомная проверка данных полей модели"
   ]
  },
  {
   "cell_type": "code",
   "execution_count": 39,
   "metadata": {},
   "outputs": [
    {
     "name": "stdout",
     "output_type": "stream",
     "text": [
      "name='Ivan Ivanov'\n"
     ]
    }
   ],
   "source": [
    "from pydantic import BaseModel, Field\n",
    "\n",
    "class User(BaseModel):\n",
    "    name: str = Field(default='Ivan Ivanov')\n",
    "    name: str = 'Ivan Ivanov'\n",
    "\n",
    "user = User()\n",
    "print(user)\n"
   ]
  },
  {
   "cell_type": "markdown",
   "metadata": {},
   "source": [
    "Field default_factory"
   ]
  },
  {
   "cell_type": "code",
   "execution_count": 40,
   "metadata": {},
   "outputs": [],
   "source": [
    "from uuid import uuid4"
   ]
  },
  {
   "cell_type": "code",
   "execution_count": 41,
   "metadata": {},
   "outputs": [],
   "source": [
    "from pydantic import BaseModel, Field"
   ]
  },
  {
   "cell_type": "code",
   "execution_count": 44,
   "metadata": {},
   "outputs": [
    {
     "name": "stdout",
     "output_type": "stream",
     "text": [
      "id='69c1912de84f4405a7b8e67665275546'\n"
     ]
    }
   ],
   "source": [
    "class User(BaseModel):\n",
    "    id: int = Field(default_factory=lambda: uuid4().hex)\n",
    "\n",
    "user = User()\n",
    "print(user)\n"
   ]
  },
  {
   "cell_type": "markdown",
   "metadata": {},
   "source": [
    "Дополнительные возможности\n",
    "Field(..., alias='foo')\n",
    "Field(..., validation_alias='foo')\n",
    "Field(..., serialization_alias='foo')"
   ]
  },
  {
   "cell_type": "code",
   "execution_count": 45,
   "metadata": {},
   "outputs": [
    {
     "name": "stdout",
     "output_type": "stream",
     "text": [
      "name='ivanivanov'\n",
      "{'username': 'ivanivanov'}\n"
     ]
    }
   ],
   "source": [
    "# alias\n",
    "from pydantic import BaseModel, Field\n",
    "\n",
    "class User(BaseModel):\n",
    "    name: str = Field(..., alias='username')\n",
    "user = User(username='ivanivanov')\n",
    "print(user)\n",
    "print(user.model_dump(by_alias=True)) # instead name -> username"
   ]
  },
  {
   "cell_type": "code",
   "execution_count": 52,
   "metadata": {},
   "outputs": [],
   "source": [
    "# validation_alias\n",
    "from typing import List\n",
    "from pydantic import BaseModel, Field, EmailStr\n",
    "from decimal import Decimal \n",
    "\n",
    "\n",
    "class User(BaseModel):\n",
    "    username: str = Field(..., min_length=3, max_length=10, pattern=r'^\\w+$')\n",
    "    email: EmailStr = Field(...)\n",
    "    age: int = Field(..., gt=0, le=120)\n",
    "    heigh: float = Field(..., gt=0.0)\n",
    "    is_active: bool = Field(True)\n",
    "    balance: Decimal = Field(..., max_digits=10, decimal_places=2)\n",
    "    favorite_numbers: List[int] = Field(..., min_items=1)"
   ]
  },
  {
   "cell_type": "code",
   "execution_count": 54,
   "metadata": {},
   "outputs": [
    {
     "name": "stdout",
     "output_type": "stream",
     "text": [
      "username='ivan' email='ivan.iavn@example.ru' age=30 heigh=5.9 is_active=True balance=Decimal('9999.99') favorite_numbers=[1, 2, 3]\n"
     ]
    }
   ],
   "source": [
    "user_instance = User(\n",
    "    username='ivan',\n",
    "    age=30,\n",
    "    heigh=5.9,\n",
    "    weight=160.5,\n",
    "    email='ivan.iavn@example.ru',\n",
    "    password='securepassword',\n",
    "    balance=9999.99,\n",
    "    favorite_numbers=[1, 2, 3],\n",
    ")\n",
    "print(user_instance)"
   ]
  },
  {
   "cell_type": "markdown",
   "metadata": {},
   "source": [
    "Вычисляемые Fields"
   ]
  },
  {
   "cell_type": "code",
   "execution_count": 58,
   "metadata": {},
   "outputs": [
    {
     "name": "stdout",
     "output_type": "stream",
     "text": [
      "{'name': 'Ivan Ivanov', 'birth_year': 2000, 'age': 24}\n"
     ]
    }
   ],
   "source": [
    "from pydantic import BaseModel, computed_field\n",
    "from datetime import datetime \n",
    "\n",
    "\n",
    "class Person(BaseModel):\n",
    "    name: str\n",
    "    birth_year: int\n",
    "\n",
    "    @computed_field \n",
    "    @property\n",
    "    def age(self) -> int:\n",
    "        current_year = datetime.now().year\n",
    "        return current_year - self.birth_year\n",
    "    \n",
    "print(Person(name='Ivan Ivanov', birth_year=2000).model_dump())"
   ]
  },
  {
   "cell_type": "markdown",
   "metadata": {},
   "source": [
    "Валидатор Field (field validator)"
   ]
  },
  {
   "cell_type": "code",
   "execution_count": 60,
   "metadata": {},
   "outputs": [
    {
     "name": "stdout",
     "output_type": "stream",
     "text": [
      "name='Ivan Ivanov' birth_year=2000 age=24\n"
     ]
    }
   ],
   "source": [
    "from pydantic import BaseModel, ValidationError, field_validator\n",
    "from datetime import datetime\n",
    "\n",
    "\n",
    "class Person(BaseModel):\n",
    "    name: str \n",
    "    birth_year: int\n",
    "\n",
    "    @property \n",
    "    def age(self) -> int:\n",
    "        current_year = datetime.now().year\n",
    "        return current_year - self.birth_year\n",
    "    \n",
    "    @field_validator('birth_year')\n",
    "    @classmethod\n",
    "    def validate_age(cls, v: int) -> int:\n",
    "        current_year = datetime.now().year\n",
    "        if current_year - v < 18:\n",
    "            raise ValueError('Person must be 18 years or older')\n",
    "        return v\n",
    "    \n",
    "    try:\n",
    "        print(Person(name='Ivan Ivanov', birth_year=2000))\n",
    "    except ValidationError as e:\n",
    "        print(e)\n"
   ]
  },
  {
   "cell_type": "markdown",
   "metadata": {},
   "source": [
    "Валидация dataclass не работает из коробки, но это можно сделать"
   ]
  },
  {
   "cell_type": "code",
   "execution_count": 61,
   "metadata": {},
   "outputs": [
    {
     "name": "stdout",
     "output_type": "stream",
     "text": [
      "{'properties': {'id': {'title': 'Id', 'type': 'integer'}, 'name': {'default': 'Ivan Ivanov', 'title': 'Name', 'type': 'string'}, 'age': {'anyOf': [{'minimum': 18, 'type': 'integer'}, {'type': 'null'}], 'default': None, 'description': 'do not lie!', 'title': 'The age of the user'}, 'height': {'anyOf': [{'maximum': 300, 'minimum': 50, 'type': 'integer'}, {'type': 'null'}], 'default': None, 'title': 'The heigh in cm'}, 'friends': {'items': {'type': 'integer'}, 'title': 'Friends', 'type': 'array'}}, 'required': ['id'], 'title': 'User', 'type': 'object'}\n"
     ]
    }
   ],
   "source": [
    "from dataclasses import dataclass, field\n",
    "from typing import List, Optional\n",
    "from pydantic import Field, TypeAdapter\n",
    "\n",
    "\n",
    "@dataclass \n",
    "class User:\n",
    "    id: int\n",
    "    name: str = 'Ivan Ivanov'\n",
    "    age: Optional[int] = field(\n",
    "        default=None,\n",
    "        metadata=dict(title='The age of the user', description='do not lie!', ge=18)\n",
    "\n",
    "    )\n",
    "    height: Optional[int] = Field(None, title='The heigh in cm', ge=50, le=300)\n",
    "    friends: List[int] = field(default_factory=lambda: [0])\n",
    "\n",
    "print(TypeAdapter(User).json_schema()) # Use TypeAdapter как пример"
   ]
  },
  {
   "cell_type": "markdown",
   "metadata": {},
   "source": [
    "Strict mode"
   ]
  },
  {
   "cell_type": "code",
   "execution_count": 63,
   "metadata": {},
   "outputs": [
    {
     "name": "stdout",
     "output_type": "stream",
     "text": [
      "id=42 username='ivan ivanov'\n",
      "1 validation error for User\n",
      "id\n",
      "  Input should be a valid integer [type=int_type, input_value='42', input_type=str]\n",
      "    For further information visit https://errors.pydantic.dev/2.7/v/int_type\n"
     ]
    }
   ],
   "source": [
    "from pydantic import BaseModel, ValidationError\n",
    "\n",
    "\n",
    "class User(BaseModel):\n",
    "    id: int\n",
    "    username: str\n",
    "\n",
    "\n",
    "print(User.model_validate({'id': '42', 'username': 'ivan ivanov'})) # id=42 pydantic convert str to int auto\n",
    "\n",
    "try:\n",
    "    User.model_validate({'id': '42', 'username': 'ivan ivanov'}, strict=True) # Strict mode activate\n",
    "except ValidationError as e:\n",
    "    print(e)"
   ]
  },
  {
   "cell_type": "markdown",
   "metadata": {},
   "source": [
    "Pydantic Settings"
   ]
  },
  {
   "cell_type": "code",
   "execution_count": 2,
   "metadata": {},
   "outputs": [
    {
     "name": "stdout",
     "output_type": "stream",
     "text": [
      "The following packages are already present in the pyproject.toml and will be skipped:\n",
      "\n",
      "  • \u001b[36mpydantic-settings\u001b[39m\n",
      "\n",
      "If you want to update it to the latest compatible version, you can use `poetry update package`.\n",
      "If you prefer to upgrade it to the latest available version, you can use `poetry add package@latest`.\n",
      "\n",
      "Nothing to add.\n"
     ]
    }
   ],
   "source": [
    "!poetry add pydantic-settings"
   ]
  },
  {
   "cell_type": "code",
   "execution_count": 23,
   "metadata": {},
   "outputs": [
    {
     "name": "stderr",
     "output_type": "stream",
     "text": [
      "2739.99s - pydevd: Sending message related to process being replaced timed-out after 5 seconds\n"
     ]
    }
   ],
   "source": [
    "!set -a & source ./.env & set +a"
   ]
  },
  {
   "cell_type": "code",
   "execution_count": 24,
   "metadata": {},
   "outputs": [
    {
     "name": "stderr",
     "output_type": "stream",
     "text": [
      "2755.21s - pydevd: Sending message related to process being replaced timed-out after 5 seconds\n"
     ]
    },
    {
     "name": "stdout",
     "output_type": "stream",
     "text": [
      "SHELL=/bin/bash\n",
      "SESSION_MANAGER=local/unix:@/tmp/.ICE-unix/2472,unix/unix:/tmp/.ICE-unix/2472\n",
      "PYTHONUNBUFFERED=1\n",
      "HISTCONTROL=ignoredups\n",
      "XDG_MENU_PREFIX=gnome-\n",
      "APPLICATION_INSIGHTS_NO_DIAGNOSTIC_CHANNEL=1\n",
      "HOSTNAME=fedora-39\n",
      "HISTSIZE=5000\n",
      "DOTNET_ROOT=/usr/lib64/dotnet\n",
      "SSH_AUTH_SOCK=/run/user/1000/keyring/ssh\n",
      "MEMORY_PRESSURE_WRITE=c29tZSAyMDAwMDAgMjAwMDAwMAA=\n",
      "PYTHON_FROZEN_MODULES=on\n",
      "ELECTRON_RUN_AS_NODE=1\n",
      "XMODIFIERS=@im=ibus\n",
      "DESKTOP_SESSION=gnome\n",
      "NO_AT_BRIDGE=1\n",
      "VSCODE_AMD_ENTRYPOINT=vs/workbench/api/node/extensionHostProcess\n",
      "EDITOR=nvim\n",
      "PWD=/home/atitkov/Documents/ed_hub/pydantic_ed\n",
      "XDG_SESSION_DESKTOP=gnome\n",
      "LOGNAME=atitkov\n",
      "XDG_SESSION_TYPE=wayland\n",
      "SYSTEMD_EXEC_PID=2543\n",
      "PYDEVD_IPYTHON_COMPATIBLE_DEBUGGING=1\n",
      "VSCODE_CODE_CACHE_PATH=/home/atitkov/.config/Code/CachedData/4849ca9bdf9666755eb463db297b69e5385090e3\n",
      "_=/usr/bin/env\n",
      "XAUTHORITY=/run/user/1000/.mutter-Xwaylandauth.JN4CU2\n",
      "GJS_DEBUG_TOPICS=JS ERROR;JS LOG\n",
      "GDM_LANG=ru_RU.UTF-8\n",
      "HOME=/home/atitkov\n",
      "USERNAME=atitkov\n",
      "LANG=ru_RU.UTF-8\n",
      "XDG_CURRENT_DESKTOP=GNOME\n",
      "VIRTUAL_ENV=/home/atitkov/.cache/pypoetry/virtualenvs/pydantic-ed-pvtsaXaT-py3.12\n",
      "VSCODE_IPC_HOOK=/run/user/1000/vscode-0b45b150-1.93-main.sock\n",
      "MEMORY_PRESSURE_WATCH=/sys/fs/cgroup/user.slice/user-1000.slice/user@1000.service/session.slice/org.gnome.Shell@wayland.service/memory.pressure\n",
      "WAYLAND_DISPLAY=wayland-0\n",
      "FORCE_COLOR=1\n",
      "PYDEVD_USE_FRAME_EVAL=NO\n",
      "CLICOLOR=1\n",
      "VSCODE_L10N_BUNDLE_LOCATION=file:///home/atitkov/.vscode/extensions/ms-ceintl.vscode-language-pack-ru-1.93.2024091109/translations/extensions/vscode.markdown-language-features.i18n.json\n",
      "INVOCATION_ID=08cd99ef9e8144d28c589668dd307743\n",
      "CLICOLOR_FORCE=1\n",
      "MANAGERPID=2296\n",
      "DOTNET_BUNDLE_EXTRACT_BASE_DIR=/home/atitkov/.cache/dotnet_bundle_extract\n",
      "CHROME_DESKTOP=code-url-handler.desktop\n",
      "GJS_DEBUG_OUTPUT=stderr\n",
      "MOZ_GMP_PATH=/usr/lib64/mozilla/plugins/gmp-gmpopenh264/system-installed\n",
      "GNOME_SETUP_DISPLAY=:1\n",
      "XDG_SESSION_CLASS=user\n",
      "TERM=xterm-color\n",
      "LESSOPEN=||/usr/bin/lesspipe.sh %s\n",
      "USER=atitkov\n",
      "GIT_PAGER=cat\n",
      "PYTHONIOENCODING=utf-8\n",
      "VISUAL=nvim\n",
      "DISPLAY=:0\n",
      "VSCODE_PID=900001\n",
      "SHLVL=0\n",
      "PAGER=cat\n",
      "QT_IM_MODULE=ibus\n",
      "VSCODE_CWD=/home/atitkov\n",
      "MPLBACKEND=module://matplotlib_inline.backend_inline\n",
      "VSCODE_CRASH_REPORTER_PROCESS_TYPE=extensionHost\n",
      "XDG_RUNTIME_DIR=/run/user/1000\n",
      "DEBUGINFOD_URLS=https://debuginfod.fedoraproject.org/ \n",
      "KDEDIRS=/usr\n",
      "JOURNAL_STREAM=9:20083\n",
      "XDG_DATA_DIRS=/home/atitkov/.local/share/flatpak/exports/share:/var/lib/flatpak/exports/share:/usr/local/share/:/usr/share/\n",
      "GDK_BACKEND=x11\n",
      "PATH=/home/atitkov/.cache/pypoetry/virtualenvs/pydantic-ed-pvtsaXaT-py3.12/bin:/home/atitkov/.local/bin:/home/atitkov/bin:/usr/local/bin:/usr/local/sbin:/usr/bin:/usr/sbin:/home/atitkov/.dotnet/tools:/home/atitkov/.spoof-dpi/bin:/home/atitkov/.spoof-dpi/bin\n",
      "GDMSESSION=gnome\n",
      "ORIGINAL_XDG_CURRENT_DESKTOP=GNOME\n",
      "DBUS_SESSION_BUS_ADDRESS=unix:path=/run/user/1000/bus\n",
      "VSCODE_NLS_CONFIG={\"userLocale\":\"ru\",\"osLocale\":\"ru-ru\",\"resolvedLanguage\":\"ru\",\"defaultMessagesFile\":\"/usr/share/code/resources/app/out/nls.messages.json\",\"languagePack\":{\"translationsConfigFile\":\"/home/atitkov/.config/Code/clp/49e322b77e041f3ce5539c2e92faedf9.ru/tcf.json\",\"messagesFile\":\"/home/atitkov/.config/Code/clp/49e322b77e041f3ce5539c2e92faedf9.ru/4849ca9bdf9666755eb463db297b69e5385090e3/nls.messages.json\",\"corruptMarkerFile\":\"/home/atitkov/.config/Code/clp/49e322b77e041f3ce5539c2e92faedf9.ru/corrupted.info\"},\"locale\":\"ru\",\"availableLanguages\":{\"*\":\"ru\"},\"_languagePackId\":\"49e322b77e041f3ce5539c2e92faedf9.ru\",\"_languagePackSupport\":true,\"_translationsConfigFile\":\"/home/atitkov/.config/Code/clp/49e322b77e041f3ce5539c2e92faedf9.ru/tcf.json\",\"_cacheRoot\":\"/home/atitkov/.config/Code/clp/49e322b77e041f3ce5539c2e92faedf9.ru\",\"_resolvedLanguagePackCoreLocation\":\"/home/atitkov/.config/Code/clp/49e322b77e041f3ce5539c2e92faedf9.ru/4849ca9bdf9666755eb463db297b69e5385090e3\",\"_corruptedFile\":\"/home/atitkov/.config/Code/clp/49e322b77e041f3ce5539c2e92faedf9.ru/corrupted.info\"}\n",
      "MAIL=/var/spool/mail/atitkov\n",
      "GIO_LAUNCHED_DESKTOP_FILE_PID=900001\n",
      "GIO_LAUNCHED_DESKTOP_FILE=/usr/share/applications/code.desktop\n",
      "VSCODE_HANDLES_UNCAUGHT_ERRORS=true\n",
      "OLDPWD=/home/atitkov\n"
     ]
    }
   ],
   "source": [
    "!env"
   ]
  },
  {
   "cell_type": "code",
   "execution_count": 8,
   "metadata": {},
   "outputs": [
    {
     "name": "stdout",
     "output_type": "stream",
     "text": [
      "{'auth_key': 'test_auth_key', 'api_key': 'test'}\n"
     ]
    }
   ],
   "source": [
    "import os\n",
    "from pydantic import Field\n",
    "from pydantic_settings import BaseSettings\n",
    "\n",
    "\n",
    "class Settings(BaseSettings):\n",
    "    auth_key: str = Field(...)\n",
    "    api_key: str = Field(alias='my_api_key')\n",
    "\n",
    "\n",
    "print(Settings().model_dump())"
   ]
  },
  {
   "cell_type": "code",
   "execution_count": 2,
   "metadata": {},
   "outputs": [
    {
     "name": "stdout",
     "output_type": "stream",
     "text": [
      "{'service_name': 'default', 'auth_key': 'test_auth_key', 'api_key': 'test', 'url': 'https://mysuperurl.ru'}\n"
     ]
    }
   ],
   "source": [
    "import os\n",
    "from pydantic import Field, AliasChoices\n",
    "from pydantic_settings import BaseSettings\n",
    "\n",
    "os.environ[\"AUTH_KEY\"] = \"test_auth_key\"\n",
    "os.environ[\"MY_API_KEY\"] = \"test\"\n",
    "os.environ[\"ENV2\"] = \"https://mysuperurl.ru\"\n",
    "\n",
    "\n",
    "class Settings(BaseSettings):\n",
    "    service_name: str = Field(default='default')\n",
    "    auth_key: str \n",
    "    api_key: str = Field(alias='my_api_key')\n",
    "    url: str = Field(validation_alias=AliasChoices('env1', 'env2'))\n",
    "\n",
    "\n",
    "print(Settings().model_dump())"
   ]
  },
  {
   "cell_type": "markdown",
   "metadata": {},
   "source": [
    "Можно установить префикс при чтении переменных окружения"
   ]
  },
  {
   "cell_type": "code",
   "execution_count": 10,
   "metadata": {},
   "outputs": [
    {
     "name": "stdout",
     "output_type": "stream",
     "text": [
      "environ({'CHROME_DESKTOP': 'code-url-handler.desktop', 'DBUS_SESSION_BUS_ADDRESS': 'unix:path=/run/user/1000/bus', 'DEBUGINFOD_URLS': 'https://debuginfod.fedoraproject.org/ ', 'DESKTOP_SESSION': 'gnome', 'DISPLAY': ':0', 'DOTNET_BUNDLE_EXTRACT_BASE_DIR': '/home/atitkov/.cache/dotnet_bundle_extract', 'DOTNET_ROOT': '/usr/lib64/dotnet', 'EDITOR': 'nvim', 'GDK_BACKEND': 'x11', 'GDMSESSION': 'gnome', 'GDM_LANG': 'ru_RU.UTF-8', 'GIO_LAUNCHED_DESKTOP_FILE': '/usr/share/applications/code.desktop', 'GIO_LAUNCHED_DESKTOP_FILE_PID': '900001', 'GJS_DEBUG_OUTPUT': 'stderr', 'GJS_DEBUG_TOPICS': 'JS ERROR;JS LOG', 'GNOME_SETUP_DISPLAY': ':1', 'HISTCONTROL': 'ignoredups', 'HISTSIZE': '5000', 'HOME': '/home/atitkov', 'HOSTNAME': 'fedora-39', 'INVOCATION_ID': '08cd99ef9e8144d28c589668dd307743', 'JOURNAL_STREAM': '9:20083', 'KDEDIRS': '/usr', 'LANG': 'ru_RU.UTF-8', 'LESSOPEN': '||/usr/bin/lesspipe.sh %s', 'LOGNAME': 'atitkov', 'MAIL': '/var/spool/mail/atitkov', 'MANAGERPID': '2296', 'MEMORY_PRESSURE_WATCH': '/sys/fs/cgroup/user.slice/user-1000.slice/user@1000.service/session.slice/org.gnome.Shell@wayland.service/memory.pressure', 'MEMORY_PRESSURE_WRITE': 'c29tZSAyMDAwMDAgMjAwMDAwMAA=', 'MOZ_GMP_PATH': '/usr/lib64/mozilla/plugins/gmp-gmpopenh264/system-installed', 'NO_AT_BRIDGE': '1', 'OLDPWD': '/home/atitkov', 'ORIGINAL_XDG_CURRENT_DESKTOP': 'GNOME', 'PATH': '/home/atitkov/.cache/pypoetry/virtualenvs/pydantic-ed-pvtsaXaT-py3.12/bin:/home/atitkov/.local/bin:/home/atitkov/bin:/usr/local/bin:/usr/local/sbin:/usr/bin:/usr/sbin:/home/atitkov/.dotnet/tools:/home/atitkov/.spoof-dpi/bin:/home/atitkov/.spoof-dpi/bin', 'PWD': '/home/atitkov', 'QT_IM_MODULE': 'ibus', 'SESSION_MANAGER': 'local/unix:@/tmp/.ICE-unix/2472,unix/unix:/tmp/.ICE-unix/2472', 'SHELL': '/bin/bash', 'SHLVL': '0', 'SSH_AUTH_SOCK': '/run/user/1000/keyring/ssh', 'SYSTEMD_EXEC_PID': '2543', 'USER': 'atitkov', 'USERNAME': 'atitkov', 'VISUAL': 'nvim', 'VSCODE_AMD_ENTRYPOINT': 'vs/workbench/api/node/extensionHostProcess', 'VSCODE_CODE_CACHE_PATH': '/home/atitkov/.config/Code/CachedData/4849ca9bdf9666755eb463db297b69e5385090e3', 'VSCODE_CRASH_REPORTER_PROCESS_TYPE': 'extensionHost', 'VSCODE_CWD': '/home/atitkov', 'VSCODE_HANDLES_UNCAUGHT_ERRORS': 'true', 'VSCODE_IPC_HOOK': '/run/user/1000/vscode-0b45b150-1.93-main.sock', 'VSCODE_NLS_CONFIG': '{\"userLocale\":\"ru\",\"osLocale\":\"ru-ru\",\"resolvedLanguage\":\"ru\",\"defaultMessagesFile\":\"/usr/share/code/resources/app/out/nls.messages.json\",\"languagePack\":{\"translationsConfigFile\":\"/home/atitkov/.config/Code/clp/49e322b77e041f3ce5539c2e92faedf9.ru/tcf.json\",\"messagesFile\":\"/home/atitkov/.config/Code/clp/49e322b77e041f3ce5539c2e92faedf9.ru/4849ca9bdf9666755eb463db297b69e5385090e3/nls.messages.json\",\"corruptMarkerFile\":\"/home/atitkov/.config/Code/clp/49e322b77e041f3ce5539c2e92faedf9.ru/corrupted.info\"},\"locale\":\"ru\",\"availableLanguages\":{\"*\":\"ru\"},\"_languagePackId\":\"49e322b77e041f3ce5539c2e92faedf9.ru\",\"_languagePackSupport\":true,\"_translationsConfigFile\":\"/home/atitkov/.config/Code/clp/49e322b77e041f3ce5539c2e92faedf9.ru/tcf.json\",\"_cacheRoot\":\"/home/atitkov/.config/Code/clp/49e322b77e041f3ce5539c2e92faedf9.ru\",\"_resolvedLanguagePackCoreLocation\":\"/home/atitkov/.config/Code/clp/49e322b77e041f3ce5539c2e92faedf9.ru/4849ca9bdf9666755eb463db297b69e5385090e3\",\"_corruptedFile\":\"/home/atitkov/.config/Code/clp/49e322b77e041f3ce5539c2e92faedf9.ru/corrupted.info\"}', 'VSCODE_PID': '900001', 'WAYLAND_DISPLAY': 'wayland-0', 'XAUTHORITY': '/run/user/1000/.mutter-Xwaylandauth.JN4CU2', 'XDG_CURRENT_DESKTOP': 'GNOME', 'XDG_DATA_DIRS': '/home/atitkov/.local/share/flatpak/exports/share:/var/lib/flatpak/exports/share:/usr/local/share/:/usr/share/', 'XDG_MENU_PREFIX': 'gnome-', 'XDG_RUNTIME_DIR': '/run/user/1000', 'XDG_SESSION_CLASS': 'user', 'XDG_SESSION_DESKTOP': 'gnome', 'XDG_SESSION_TYPE': 'wayland', 'XMODIFIERS': '@im=ibus', '_': '/home/atitkov/.cache/pypoetry/virtualenvs/pydantic-ed-pvtsaXaT-py3.12/bin/python', 'ELECTRON_RUN_AS_NODE': '1', 'APPLICATION_INSIGHTS_NO_DIAGNOSTIC_CHANNEL': '1', 'VSCODE_L10N_BUNDLE_LOCATION': 'file:///home/atitkov/.vscode/extensions/ms-ceintl.vscode-language-pack-ru-1.93.2024091109/translations/extensions/vscode.markdown-language-features.i18n.json', 'PYTHONUNBUFFERED': '1', 'VIRTUAL_ENV': '/home/atitkov/.cache/pypoetry/virtualenvs/pydantic-ed-pvtsaXaT-py3.12', 'MY_API_KEY': 'env_test', 'AUTH_KEY': 'env_auth_key', 'PYTHONIOENCODING': 'utf-8', 'PS1': '(pydantic-ed-py3.12) ', 'ENV2': 'https://envurl.ru', 'PYDEVD_IPYTHON_COMPATIBLE_DEBUGGING': '1', 'PYTHON_FROZEN_MODULES': 'on', 'PYDEVD_USE_FRAME_EVAL': 'NO', 'TERM': 'xterm-color', 'CLICOLOR': '1', 'FORCE_COLOR': '1', 'CLICOLOR_FORCE': '1', 'PAGER': 'cat', 'GIT_PAGER': 'cat', 'MPLBACKEND': 'module://matplotlib_inline.backend_inline', 'PRODUCTION_AUTH_KEY': 'test_auth_key', 'PRODUCTION_MY_API_KEY': 'test', 'PRODUCTION_ENV2': 'https://mysuperurl.ru'})\n",
      "{'service_name': 'default', 'auth_key': 'test_auth_key', 'api_key': 'env_test', 'url': 'https://envurl.ru'}\n"
     ]
    }
   ],
   "source": [
    "import os\n",
    "from pydantic import Field, AliasChoices\n",
    "from pydantic_settings import BaseSettings, SettingsConfigDict \n",
    "\n",
    "# Set enviroment variables with the prefix\n",
    "\n",
    "os.environ['PRODUCTION_AUTH_KEY'] = 'test_auth_key'\n",
    "os.environ[\"PRODUCTION_MY_API_KEY\"] = 'test'\n",
    "os.environ['PRODUCTION_ENV2'] = 'https://mysuperurl.ru'\n",
    "print(os.environ)\n",
    "\n",
    "class Settings(BaseSettings):\n",
    "    model_config = SettingsConfigDict(env_prefix='production_')\n",
    "\n",
    "    service_name: str = Field(default='default')\n",
    "    auth_key: str \n",
    "    api_key: str = Field(alias='my_api_key')\n",
    "    url: str = Field(validation_alias=AliasChoices('env1', 'env2'))\n",
    "\n",
    "print(Settings().model_dump())"
   ]
  }
 ],
 "metadata": {
  "kernelspec": {
   "display_name": "Python 3 (ipykernel)",
   "language": "python",
   "name": "python3"
  },
  "language_info": {
   "codemirror_mode": {
    "name": "ipython",
    "version": 3
   },
   "file_extension": ".py",
   "mimetype": "text/x-python",
   "name": "python",
   "nbconvert_exporter": "python",
   "pygments_lexer": "ipython3",
   "version": "3.12.5"
  }
 },
 "nbformat": 4,
 "nbformat_minor": 2
}
